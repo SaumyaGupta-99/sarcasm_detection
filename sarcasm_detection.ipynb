{
  "nbformat": 4,
  "nbformat_minor": 0,
  "metadata": {
    "colab": {
      "name": "sarcasm_detection.ipynb",
      "provenance": [],
      "collapsed_sections": [],
      "authorship_tag": "ABX9TyOj92CgZDjLrmwLhxcZFb8Q",
      "include_colab_link": true
    },
    "kernelspec": {
      "name": "python3",
      "display_name": "Python 3"
    },
    "accelerator": "GPU"
  },
  "cells": [
    {
      "cell_type": "markdown",
      "metadata": {
        "id": "view-in-github",
        "colab_type": "text"
      },
      "source": [
        "<a href=\"https://colab.research.google.com/github/SaumyaGupta-99/sarcasm_detection/blob/master/sarcasm_detection.ipynb\" target=\"_parent\"><img src=\"https://colab.research.google.com/assets/colab-badge.svg\" alt=\"Open In Colab\"/></a>"
      ]
    },
    {
      "cell_type": "code",
      "metadata": {
        "id": "8Ze6iZWRFF0W",
        "colab": {
          "base_uri": "https://localhost:8080/",
          "height": 122
        },
        "outputId": "560d1a29-c078-45d7-80ac-47b96a8a6877"
      },
      "source": [
        "from pydrive.auth import GoogleAuth\n",
        "from pydrive.drive import GoogleDrive\n",
        "from google.colab import auth\n",
        "from oauth2client.client import GoogleCredentials\n",
        "from google.colab import drive\n",
        "drive.mount('/content/drive')"
      ],
      "execution_count": null,
      "outputs": [
        {
          "output_type": "stream",
          "text": [
            "Go to this URL in a browser: https://accounts.google.com/o/oauth2/auth?client_id=947318989803-6bn6qk8qdgf4n4g3pfee6491hc0brc4i.apps.googleusercontent.com&redirect_uri=urn%3aietf%3awg%3aoauth%3a2.0%3aoob&response_type=code&scope=email%20https%3a%2f%2fwww.googleapis.com%2fauth%2fdocs.test%20https%3a%2f%2fwww.googleapis.com%2fauth%2fdrive%20https%3a%2f%2fwww.googleapis.com%2fauth%2fdrive.photos.readonly%20https%3a%2f%2fwww.googleapis.com%2fauth%2fpeopleapi.readonly\n",
            "\n",
            "Enter your authorization code:\n",
            "··········\n",
            "Mounted at /content/drive\n"
          ],
          "name": "stdout"
        }
      ]
    },
    {
      "cell_type": "code",
      "metadata": {
        "id": "HThP62RSC5Mc",
        "colab": {
          "base_uri": "https://localhost:8080/",
          "height": 71
        },
        "outputId": "fdbf78aa-d6da-460e-f8e0-e4bb2f94a836"
      },
      "source": [
        "import re\n",
        "import pandas as pd\n",
        "import numpy as np\n",
        "import matplotlib.pyplot as plt\n",
        "import string\n",
        "import seaborn as sns\n",
        "import nltk\n",
        "import warnings\n",
        "warnings.filterwarnings(\"ignore\",category=DeprecationWarning)\n",
        "# import json\n",
        "# with open('/content/drive/My Drive/sarcasm_detection/Sarcasm_Headlines_Dataset_v2.json') as f:\n",
        "#    data1 = json.load(f)\n",
        "# print (data1)\n",
        "# with open('/content/drive/My Drive/sarcasm_detection/Sarcasm_Headlines_Dataset.json') as f:\n",
        "#    data2 = json.load(f)\n",
        "# print (data2)\n",
        "train1=pd.read_json('/content/drive/My Drive/sarcasm_detection/Sarcasm_Headlines_Dataset_v2.json',lines=True)\n",
        "train2=pd.read_json(\"/content/drive/My Drive/sarcasm_detection/Sarcasm_Headlines_Dataset.json\",lines=True)"
      ],
      "execution_count": null,
      "outputs": [
        {
          "output_type": "stream",
          "text": [
            "/usr/local/lib/python3.6/dist-packages/statsmodels/tools/_testing.py:19: FutureWarning: pandas.util.testing is deprecated. Use the functions in the public API at pandas.testing instead.\n",
            "  import pandas.util.testing as tm\n"
          ],
          "name": "stderr"
        }
      ]
    },
    {
      "cell_type": "code",
      "metadata": {
        "id": "SK8OS17fIbX2",
        "colab": {
          "base_uri": "https://localhost:8080/",
          "height": 204
        },
        "outputId": "d26b20ca-42e3-4d6c-a2b6-342d18721a8e"
      },
      "source": [
        "train1.head()"
      ],
      "execution_count": null,
      "outputs": [
        {
          "output_type": "execute_result",
          "data": {
            "text/html": [
              "<div>\n",
              "<style scoped>\n",
              "    .dataframe tbody tr th:only-of-type {\n",
              "        vertical-align: middle;\n",
              "    }\n",
              "\n",
              "    .dataframe tbody tr th {\n",
              "        vertical-align: top;\n",
              "    }\n",
              "\n",
              "    .dataframe thead th {\n",
              "        text-align: right;\n",
              "    }\n",
              "</style>\n",
              "<table border=\"1\" class=\"dataframe\">\n",
              "  <thead>\n",
              "    <tr style=\"text-align: right;\">\n",
              "      <th></th>\n",
              "      <th>is_sarcastic</th>\n",
              "      <th>headline</th>\n",
              "      <th>article_link</th>\n",
              "    </tr>\n",
              "  </thead>\n",
              "  <tbody>\n",
              "    <tr>\n",
              "      <th>0</th>\n",
              "      <td>1</td>\n",
              "      <td>thirtysomething scientists unveil doomsday clo...</td>\n",
              "      <td>https://www.theonion.com/thirtysomething-scien...</td>\n",
              "    </tr>\n",
              "    <tr>\n",
              "      <th>1</th>\n",
              "      <td>0</td>\n",
              "      <td>dem rep. totally nails why congress is falling...</td>\n",
              "      <td>https://www.huffingtonpost.com/entry/donna-edw...</td>\n",
              "    </tr>\n",
              "    <tr>\n",
              "      <th>2</th>\n",
              "      <td>0</td>\n",
              "      <td>eat your veggies: 9 deliciously different recipes</td>\n",
              "      <td>https://www.huffingtonpost.com/entry/eat-your-...</td>\n",
              "    </tr>\n",
              "    <tr>\n",
              "      <th>3</th>\n",
              "      <td>1</td>\n",
              "      <td>inclement weather prevents liar from getting t...</td>\n",
              "      <td>https://local.theonion.com/inclement-weather-p...</td>\n",
              "    </tr>\n",
              "    <tr>\n",
              "      <th>4</th>\n",
              "      <td>1</td>\n",
              "      <td>mother comes pretty close to using word 'strea...</td>\n",
              "      <td>https://www.theonion.com/mother-comes-pretty-c...</td>\n",
              "    </tr>\n",
              "  </tbody>\n",
              "</table>\n",
              "</div>"
            ],
            "text/plain": [
              "   is_sarcastic  ...                                       article_link\n",
              "0             1  ...  https://www.theonion.com/thirtysomething-scien...\n",
              "1             0  ...  https://www.huffingtonpost.com/entry/donna-edw...\n",
              "2             0  ...  https://www.huffingtonpost.com/entry/eat-your-...\n",
              "3             1  ...  https://local.theonion.com/inclement-weather-p...\n",
              "4             1  ...  https://www.theonion.com/mother-comes-pretty-c...\n",
              "\n",
              "[5 rows x 3 columns]"
            ]
          },
          "metadata": {
            "tags": []
          },
          "execution_count": 4
        }
      ]
    },
    {
      "cell_type": "code",
      "metadata": {
        "id": "mUyITnQ5ImF6",
        "colab": {
          "base_uri": "https://localhost:8080/",
          "height": 204
        },
        "outputId": "2ee4ef20-d9d3-4595-e8c5-a68880368057"
      },
      "source": [
        "data=train1.append(train2,ignore_index=True)\n",
        "dataorg=train1.append(train2,ignore_index=True)\n",
        "data.head()"
      ],
      "execution_count": null,
      "outputs": [
        {
          "output_type": "execute_result",
          "data": {
            "text/html": [
              "<div>\n",
              "<style scoped>\n",
              "    .dataframe tbody tr th:only-of-type {\n",
              "        vertical-align: middle;\n",
              "    }\n",
              "\n",
              "    .dataframe tbody tr th {\n",
              "        vertical-align: top;\n",
              "    }\n",
              "\n",
              "    .dataframe thead th {\n",
              "        text-align: right;\n",
              "    }\n",
              "</style>\n",
              "<table border=\"1\" class=\"dataframe\">\n",
              "  <thead>\n",
              "    <tr style=\"text-align: right;\">\n",
              "      <th></th>\n",
              "      <th>is_sarcastic</th>\n",
              "      <th>headline</th>\n",
              "      <th>article_link</th>\n",
              "    </tr>\n",
              "  </thead>\n",
              "  <tbody>\n",
              "    <tr>\n",
              "      <th>0</th>\n",
              "      <td>1</td>\n",
              "      <td>thirtysomething scientists unveil doomsday clo...</td>\n",
              "      <td>https://www.theonion.com/thirtysomething-scien...</td>\n",
              "    </tr>\n",
              "    <tr>\n",
              "      <th>1</th>\n",
              "      <td>0</td>\n",
              "      <td>dem rep. totally nails why congress is falling...</td>\n",
              "      <td>https://www.huffingtonpost.com/entry/donna-edw...</td>\n",
              "    </tr>\n",
              "    <tr>\n",
              "      <th>2</th>\n",
              "      <td>0</td>\n",
              "      <td>eat your veggies: 9 deliciously different recipes</td>\n",
              "      <td>https://www.huffingtonpost.com/entry/eat-your-...</td>\n",
              "    </tr>\n",
              "    <tr>\n",
              "      <th>3</th>\n",
              "      <td>1</td>\n",
              "      <td>inclement weather prevents liar from getting t...</td>\n",
              "      <td>https://local.theonion.com/inclement-weather-p...</td>\n",
              "    </tr>\n",
              "    <tr>\n",
              "      <th>4</th>\n",
              "      <td>1</td>\n",
              "      <td>mother comes pretty close to using word 'strea...</td>\n",
              "      <td>https://www.theonion.com/mother-comes-pretty-c...</td>\n",
              "    </tr>\n",
              "  </tbody>\n",
              "</table>\n",
              "</div>"
            ],
            "text/plain": [
              "   is_sarcastic  ...                                       article_link\n",
              "0             1  ...  https://www.theonion.com/thirtysomething-scien...\n",
              "1             0  ...  https://www.huffingtonpost.com/entry/donna-edw...\n",
              "2             0  ...  https://www.huffingtonpost.com/entry/eat-your-...\n",
              "3             1  ...  https://local.theonion.com/inclement-weather-p...\n",
              "4             1  ...  https://www.theonion.com/mother-comes-pretty-c...\n",
              "\n",
              "[5 rows x 3 columns]"
            ]
          },
          "metadata": {
            "tags": []
          },
          "execution_count": 5
        }
      ]
    },
    {
      "cell_type": "code",
      "metadata": {
        "id": "ioArN9-RJIgu"
      },
      "source": [
        "data['headline']=data['headline'].str.replace(\"[^a-zA-Z]\",' ')\n",
        "data['headline'].head()\n",
        "hl_cleansed = []"
      ],
      "execution_count": null,
      "outputs": []
    },
    {
      "cell_type": "code",
      "metadata": {
        "id": "vFp0_FmWLCT8",
        "colab": {
          "base_uri": "https://localhost:8080/",
          "height": 119
        },
        "outputId": "ff86e3cd-586d-42bd-ef37-a0c037999795"
      },
      "source": [
        "data['headline']=data['headline'].apply(lambda x: ' '.join([w for w in x.split() if len(w)>2]))\n",
        "data['headline'].head()"
      ],
      "execution_count": null,
      "outputs": [
        {
          "output_type": "execute_result",
          "data": {
            "text/plain": [
              "0    thirtysomething scientists unveil doomsday clo...\n",
              "1    dem rep totally nails why congress falling sho...\n",
              "2       eat your veggies deliciously different recipes\n",
              "3    inclement weather prevents liar from getting work\n",
              "4    mother comes pretty close using word streaming...\n",
              "Name: headline, dtype: object"
            ]
          },
          "metadata": {
            "tags": []
          },
          "execution_count": 7
        }
      ]
    },
    {
      "cell_type": "code",
      "metadata": {
        "id": "LxycQkB6Lkbo",
        "colab": {
          "base_uri": "https://localhost:8080/",
          "height": 119
        },
        "outputId": "66711e23-d3b5-4eec-80e2-58302220794a"
      },
      "source": [
        "tokenized_words=data['headline'].apply(lambda x: x.split())\n",
        "tokenized_words.head()"
      ],
      "execution_count": null,
      "outputs": [
        {
          "output_type": "execute_result",
          "data": {
            "text/plain": [
              "0    [thirtysomething, scientists, unveil, doomsday...\n",
              "1    [dem, rep, totally, nails, why, congress, fall...\n",
              "2    [eat, your, veggies, deliciously, different, r...\n",
              "3    [inclement, weather, prevents, liar, from, get...\n",
              "4    [mother, comes, pretty, close, using, word, st...\n",
              "Name: headline, dtype: object"
            ]
          },
          "metadata": {
            "tags": []
          },
          "execution_count": 8
        }
      ]
    },
    {
      "cell_type": "code",
      "metadata": {
        "id": "i85m0GxkMuPK",
        "colab": {
          "base_uri": "https://localhost:8080/",
          "height": 68
        },
        "outputId": "10ff5e92-05bf-4430-be51-523721d12742"
      },
      "source": [
        "nltk.download('wordnet')"
      ],
      "execution_count": null,
      "outputs": [
        {
          "output_type": "stream",
          "text": [
            "[nltk_data] Downloading package wordnet to /root/nltk_data...\n",
            "[nltk_data]   Unzipping corpora/wordnet.zip.\n"
          ],
          "name": "stdout"
        },
        {
          "output_type": "execute_result",
          "data": {
            "text/plain": [
              "True"
            ]
          },
          "metadata": {
            "tags": []
          },
          "execution_count": 9
        }
      ]
    },
    {
      "cell_type": "code",
      "metadata": {
        "id": "slvFqwY8L0hK",
        "colab": {
          "base_uri": "https://localhost:8080/",
          "height": 119
        },
        "outputId": "c0768d1e-14eb-4489-f29f-a80ee49598ef"
      },
      "source": [
        "from nltk.stem import WordNetLemmatizer \n",
        "lemmatizer = WordNetLemmatizer()   \n",
        "tokenized_words=tokenized_words.apply(lambda x: [lemmatizer.lemmatize(i) for i in x])\n",
        "tokenized_words.head()"
      ],
      "execution_count": null,
      "outputs": [
        {
          "output_type": "execute_result",
          "data": {
            "text/plain": [
              "0    [thirtysomething, scientist, unveil, doomsday,...\n",
              "1    [dem, rep, totally, nail, why, congress, falli...\n",
              "2    [eat, your, veggie, deliciously, different, re...\n",
              "3    [inclement, weather, prevents, liar, from, get...\n",
              "4    [mother, come, pretty, close, using, word, str...\n",
              "Name: headline, dtype: object"
            ]
          },
          "metadata": {
            "tags": []
          },
          "execution_count": 10
        }
      ]
    },
    {
      "cell_type": "code",
      "metadata": {
        "id": "btiFGk5_NR-F",
        "colab": {
          "base_uri": "https://localhost:8080/",
          "height": 119
        },
        "outputId": "31dc1765-ac76-4b67-e296-90fbd479cf6c"
      },
      "source": [
        "for i in range(len(tokenized_words)):\n",
        "  tokenized_words[i]=\" \".join(tokenized_words[i])\n",
        "data['headline']=tokenized_words\n",
        "data['headline'].head()"
      ],
      "execution_count": null,
      "outputs": [
        {
          "output_type": "execute_result",
          "data": {
            "text/plain": [
              "0    thirtysomething scientist unveil doomsday cloc...\n",
              "1    dem rep totally nail why congress falling shor...\n",
              "2         eat your veggie deliciously different recipe\n",
              "3    inclement weather prevents liar from getting work\n",
              "4    mother come pretty close using word streaming ...\n",
              "Name: headline, dtype: object"
            ]
          },
          "metadata": {
            "tags": []
          },
          "execution_count": 11
        }
      ]
    },
    {
      "cell_type": "code",
      "metadata": {
        "id": "DLtMvcNGYYEx"
      },
      "source": [
        "from sklearn.feature_extraction.text import CountVectorizer\n",
        "bow_vectorizer=CountVectorizer(max_df=0.80,min_df=2,stop_words='english')\n",
        "bow=bow_vectorizer.fit_transform(data['headline'])"
      ],
      "execution_count": null,
      "outputs": []
    },
    {
      "cell_type": "code",
      "metadata": {
        "id": "ZVTOO9EdZ4k2",
        "colab": {
          "base_uri": "https://localhost:8080/",
          "height": 34
        },
        "outputId": "245dde41-74d5-4961-f4a1-03e1c210018c"
      },
      "source": [
        "n=(int)(len(data)*0.9)\n",
        "print(n)"
      ],
      "execution_count": null,
      "outputs": [
        {
          "output_type": "stream",
          "text": [
            "49795\n"
          ],
          "name": "stdout"
        }
      ]
    },
    {
      "cell_type": "code",
      "metadata": {
        "id": "0lT1PE6sbfbB",
        "colab": {
          "base_uri": "https://localhost:8080/",
          "height": 34
        },
        "outputId": "f7dc553b-f772-48be-a408-1376cf9735fd"
      },
      "source": [
        "#Decisiontree\n",
        "from sklearn.tree import DecisionTreeClassifier\n",
        "from sklearn.model_selection import train_test_split\n",
        "from sklearn.metrics import f1_score\n",
        "train_bow = bow[:n]\n",
        "test_bow = bow[n:]\n",
        "y=data['is_sarcastic'][:n]\n",
        "xtrain_bow, xvalid_bow, ytrain, yvalid = train_test_split(train_bow,y,random_state=42, test_size=0.3)\n",
        "clf = DecisionTreeClassifier()\n",
        "clf = clf.fit(xtrain_bow,ytrain)\n",
        "prediction=clf.predict_proba(xvalid_bow)\n",
        "prediction_int = prediction[:,1] >= 0.3\n",
        "prediction_int=prediction_int.astype(np.int)\n",
        "f1_score(yvalid, prediction_int)"
      ],
      "execution_count": null,
      "outputs": [
        {
          "output_type": "execute_result",
          "data": {
            "text/plain": [
              "0.8710440698018337"
            ]
          },
          "metadata": {
            "tags": []
          },
          "execution_count": 38
        }
      ]
    },
    {
      "cell_type": "code",
      "metadata": {
        "id": "vY5GoDkxjHno",
        "colab": {
          "base_uri": "https://localhost:8080/",
          "height": 306
        },
        "outputId": "4171bb22-987f-4d90-ce44-246abc07037f"
      },
      "source": [
        "test_pred = clf.predict_proba(test_bow)\n",
        "test_pred_int = test_pred[:,1] >= 0.3\n",
        "test_pred_int = test_pred_int.astype(np.int)\n",
        "test=data[n:]\n",
        "test['is_sarcastic'] = test_pred_int\n",
        "test.head()"
      ],
      "execution_count": null,
      "outputs": [
        {
          "output_type": "stream",
          "text": [
            "/usr/local/lib/python3.6/dist-packages/ipykernel_launcher.py:5: SettingWithCopyWarning: \n",
            "A value is trying to be set on a copy of a slice from a DataFrame.\n",
            "Try using .loc[row_indexer,col_indexer] = value instead\n",
            "\n",
            "See the caveats in the documentation: https://pandas.pydata.org/pandas-docs/stable/user_guide/indexing.html#returning-a-view-versus-a-copy\n",
            "  \"\"\"\n"
          ],
          "name": "stderr"
        },
        {
          "output_type": "execute_result",
          "data": {
            "text/html": [
              "<div>\n",
              "<style scoped>\n",
              "    .dataframe tbody tr th:only-of-type {\n",
              "        vertical-align: middle;\n",
              "    }\n",
              "\n",
              "    .dataframe tbody tr th {\n",
              "        vertical-align: top;\n",
              "    }\n",
              "\n",
              "    .dataframe thead th {\n",
              "        text-align: right;\n",
              "    }\n",
              "</style>\n",
              "<table border=\"1\" class=\"dataframe\">\n",
              "  <thead>\n",
              "    <tr style=\"text-align: right;\">\n",
              "      <th></th>\n",
              "      <th>is_sarcastic</th>\n",
              "      <th>headline</th>\n",
              "      <th>article_link</th>\n",
              "    </tr>\n",
              "  </thead>\n",
              "  <tbody>\n",
              "    <tr>\n",
              "      <th>49795</th>\n",
              "      <td>0</td>\n",
              "      <td>how transform your relationship with money pla...</td>\n",
              "      <td>https://www.huffingtonpost.com/entry/how-to-tr...</td>\n",
              "    </tr>\n",
              "    <tr>\n",
              "      <th>49796</th>\n",
              "      <td>1</td>\n",
              "      <td>george kennedy honor riding internal breath fr...</td>\n",
              "      <td>https://www.theonion.com/george-kennedys-honor...</td>\n",
              "    </tr>\n",
              "    <tr>\n",
              "      <th>49797</th>\n",
              "      <td>1</td>\n",
              "      <td>woman strike sobering reality check for subway...</td>\n",
              "      <td>https://local.theonion.com/women-s-strike-a-so...</td>\n",
              "    </tr>\n",
              "    <tr>\n",
              "      <th>49798</th>\n",
              "      <td>1</td>\n",
              "      <td>video game bos thinking should get big glowing...</td>\n",
              "      <td>https://www.theonion.com/video-game-boss-think...</td>\n",
              "    </tr>\n",
              "    <tr>\n",
              "      <th>49799</th>\n",
              "      <td>1</td>\n",
              "      <td>man worried any crazy person could get hand co...</td>\n",
              "      <td>https://local.theonion.com/man-worried-any-cra...</td>\n",
              "    </tr>\n",
              "  </tbody>\n",
              "</table>\n",
              "</div>"
            ],
            "text/plain": [
              "       is_sarcastic  ...                                       article_link\n",
              "49795             0  ...  https://www.huffingtonpost.com/entry/how-to-tr...\n",
              "49796             1  ...  https://www.theonion.com/george-kennedys-honor...\n",
              "49797             1  ...  https://local.theonion.com/women-s-strike-a-so...\n",
              "49798             1  ...  https://www.theonion.com/video-game-boss-think...\n",
              "49799             1  ...  https://local.theonion.com/man-worried-any-cra...\n",
              "\n",
              "[5 rows x 3 columns]"
            ]
          },
          "metadata": {
            "tags": []
          },
          "execution_count": 39
        }
      ]
    },
    {
      "cell_type": "code",
      "metadata": {
        "id": "FuoL5ey38cI_",
        "colab": {
          "base_uri": "https://localhost:8080/",
          "height": 359
        },
        "outputId": "7df91571-4122-449d-89d1-9388c42af69d"
      },
      "source": [
        "res=clf.predict(test_bow[:10])\n",
        "Y_test=dataorg['headline'][n:]\n",
        "d = {'Headlines':Y_test[:10],'Result':res}\n",
        "pd.DataFrame(d)"
      ],
      "execution_count": null,
      "outputs": [
        {
          "output_type": "execute_result",
          "data": {
            "text/html": [
              "<div>\n",
              "<style scoped>\n",
              "    .dataframe tbody tr th:only-of-type {\n",
              "        vertical-align: middle;\n",
              "    }\n",
              "\n",
              "    .dataframe tbody tr th {\n",
              "        vertical-align: top;\n",
              "    }\n",
              "\n",
              "    .dataframe thead th {\n",
              "        text-align: right;\n",
              "    }\n",
              "</style>\n",
              "<table border=\"1\" class=\"dataframe\">\n",
              "  <thead>\n",
              "    <tr style=\"text-align: right;\">\n",
              "      <th></th>\n",
              "      <th>Headlines</th>\n",
              "      <th>Result</th>\n",
              "    </tr>\n",
              "  </thead>\n",
              "  <tbody>\n",
              "    <tr>\n",
              "      <th>49795</th>\n",
              "      <td>how to transform your relationship with money ...</td>\n",
              "      <td>0</td>\n",
              "    </tr>\n",
              "    <tr>\n",
              "      <th>49796</th>\n",
              "      <td>george kennedy's honor riding on internal brea...</td>\n",
              "      <td>1</td>\n",
              "    </tr>\n",
              "    <tr>\n",
              "      <th>49797</th>\n",
              "      <td>women's strike a sobering reality check for su...</td>\n",
              "      <td>1</td>\n",
              "    </tr>\n",
              "    <tr>\n",
              "      <th>49798</th>\n",
              "      <td>video game boss thinking he should get big glo...</td>\n",
              "      <td>1</td>\n",
              "    </tr>\n",
              "    <tr>\n",
              "      <th>49799</th>\n",
              "      <td>man worried any crazy person could get hands o...</td>\n",
              "      <td>1</td>\n",
              "    </tr>\n",
              "    <tr>\n",
              "      <th>49800</th>\n",
              "      <td>romney tells heartbreaking lie about single mo...</td>\n",
              "      <td>1</td>\n",
              "    </tr>\n",
              "    <tr>\n",
              "      <th>49801</th>\n",
              "      <td>life-changing epiphany wears off on ride home</td>\n",
              "      <td>1</td>\n",
              "    </tr>\n",
              "    <tr>\n",
              "      <th>49802</th>\n",
              "      <td>are there tears in your popcorn? what to learn...</td>\n",
              "      <td>0</td>\n",
              "    </tr>\n",
              "    <tr>\n",
              "      <th>49803</th>\n",
              "      <td>he told his boyfriend, 'i love you.' his boyfr...</td>\n",
              "      <td>0</td>\n",
              "    </tr>\n",
              "    <tr>\n",
              "      <th>49804</th>\n",
              "      <td>an art project over 40 years in the making let...</td>\n",
              "      <td>0</td>\n",
              "    </tr>\n",
              "  </tbody>\n",
              "</table>\n",
              "</div>"
            ],
            "text/plain": [
              "                                               Headlines  Result\n",
              "49795  how to transform your relationship with money ...       0\n",
              "49796  george kennedy's honor riding on internal brea...       1\n",
              "49797  women's strike a sobering reality check for su...       1\n",
              "49798  video game boss thinking he should get big glo...       1\n",
              "49799  man worried any crazy person could get hands o...       1\n",
              "49800  romney tells heartbreaking lie about single mo...       1\n",
              "49801      life-changing epiphany wears off on ride home       1\n",
              "49802  are there tears in your popcorn? what to learn...       0\n",
              "49803  he told his boyfriend, 'i love you.' his boyfr...       0\n",
              "49804  an art project over 40 years in the making let...       0"
            ]
          },
          "metadata": {
            "tags": []
          },
          "execution_count": 67
        }
      ]
    },
    {
      "cell_type": "code",
      "metadata": {
        "id": "WxzHLD97XPa6",
        "colab": {
          "base_uri": "https://localhost:8080/",
          "height": 34
        },
        "outputId": "f5a2c55f-53d0-4619-afe5-58fcc4e44e69"
      },
      "source": [
        "#SVM\n",
        "from sklearn.svm import LinearSVC\n",
        "from sklearn.model_selection import train_test_split\n",
        "from sklearn.metrics import f1_score\n",
        "train_bow = bow[:n]\n",
        "test_bow = bow[n:]\n",
        "y=data['is_sarcastic'][:n]\n",
        "xtrain_bow, xvalid_bow, ytrain, yvalid = train_test_split(train_bow,y,random_state=42, test_size=0.3)\n",
        "lsvc = LinearSVC()\n",
        "lsvc = lsvc.fit(xtrain_bow,ytrain)\n",
        "# prediction=lsvc.predict_proba(xvalid_bow)\n",
        "# prediction_int = prediction[:,1] >= 0.3\n",
        "# prediction_int=prediction_int.astype(np.int)\n",
        "f1_score(yvalid, lsvc.predict(xvalid_bow))"
      ],
      "execution_count": null,
      "outputs": [
        {
          "output_type": "execute_result",
          "data": {
            "text/plain": [
              "0.877662721893491"
            ]
          },
          "metadata": {
            "tags": []
          },
          "execution_count": 15
        }
      ]
    },
    {
      "cell_type": "code",
      "metadata": {
        "id": "Ba5a87mwX59c",
        "colab": {
          "base_uri": "https://localhost:8080/",
          "height": 359
        },
        "outputId": "ae50a61b-dd9e-471e-f685-bb532bf581fd"
      },
      "source": [
        "res=lsvc.predict(test_bow[:10])\n",
        "testhead=dataorg['headline'][n:]\n",
        "d = {'Headlines':testhead[:10],'Result':res}\n",
        "pd.DataFrame(d)"
      ],
      "execution_count": null,
      "outputs": [
        {
          "output_type": "execute_result",
          "data": {
            "text/html": [
              "<div>\n",
              "<style scoped>\n",
              "    .dataframe tbody tr th:only-of-type {\n",
              "        vertical-align: middle;\n",
              "    }\n",
              "\n",
              "    .dataframe tbody tr th {\n",
              "        vertical-align: top;\n",
              "    }\n",
              "\n",
              "    .dataframe thead th {\n",
              "        text-align: right;\n",
              "    }\n",
              "</style>\n",
              "<table border=\"1\" class=\"dataframe\">\n",
              "  <thead>\n",
              "    <tr style=\"text-align: right;\">\n",
              "      <th></th>\n",
              "      <th>Headlines</th>\n",
              "      <th>Result</th>\n",
              "    </tr>\n",
              "  </thead>\n",
              "  <tbody>\n",
              "    <tr>\n",
              "      <th>49795</th>\n",
              "      <td>how to transform your relationship with money ...</td>\n",
              "      <td>0</td>\n",
              "    </tr>\n",
              "    <tr>\n",
              "      <th>49796</th>\n",
              "      <td>george kennedy's honor riding on internal brea...</td>\n",
              "      <td>1</td>\n",
              "    </tr>\n",
              "    <tr>\n",
              "      <th>49797</th>\n",
              "      <td>women's strike a sobering reality check for su...</td>\n",
              "      <td>1</td>\n",
              "    </tr>\n",
              "    <tr>\n",
              "      <th>49798</th>\n",
              "      <td>video game boss thinking he should get big glo...</td>\n",
              "      <td>1</td>\n",
              "    </tr>\n",
              "    <tr>\n",
              "      <th>49799</th>\n",
              "      <td>man worried any crazy person could get hands o...</td>\n",
              "      <td>1</td>\n",
              "    </tr>\n",
              "    <tr>\n",
              "      <th>49800</th>\n",
              "      <td>romney tells heartbreaking lie about single mo...</td>\n",
              "      <td>1</td>\n",
              "    </tr>\n",
              "    <tr>\n",
              "      <th>49801</th>\n",
              "      <td>life-changing epiphany wears off on ride home</td>\n",
              "      <td>0</td>\n",
              "    </tr>\n",
              "    <tr>\n",
              "      <th>49802</th>\n",
              "      <td>are there tears in your popcorn? what to learn...</td>\n",
              "      <td>0</td>\n",
              "    </tr>\n",
              "    <tr>\n",
              "      <th>49803</th>\n",
              "      <td>he told his boyfriend, 'i love you.' his boyfr...</td>\n",
              "      <td>1</td>\n",
              "    </tr>\n",
              "    <tr>\n",
              "      <th>49804</th>\n",
              "      <td>an art project over 40 years in the making let...</td>\n",
              "      <td>0</td>\n",
              "    </tr>\n",
              "  </tbody>\n",
              "</table>\n",
              "</div>"
            ],
            "text/plain": [
              "                                               Headlines  Result\n",
              "49795  how to transform your relationship with money ...       0\n",
              "49796  george kennedy's honor riding on internal brea...       1\n",
              "49797  women's strike a sobering reality check for su...       1\n",
              "49798  video game boss thinking he should get big glo...       1\n",
              "49799  man worried any crazy person could get hands o...       1\n",
              "49800  romney tells heartbreaking lie about single mo...       1\n",
              "49801      life-changing epiphany wears off on ride home       0\n",
              "49802  are there tears in your popcorn? what to learn...       0\n",
              "49803  he told his boyfriend, 'i love you.' his boyfr...       1\n",
              "49804  an art project over 40 years in the making let...       0"
            ]
          },
          "metadata": {
            "tags": []
          },
          "execution_count": 16
        }
      ]
    },
    {
      "cell_type": "code",
      "metadata": {
        "id": "h7N26TiRko8Q",
        "colab": {
          "base_uri": "https://localhost:8080/",
          "height": 34
        },
        "outputId": "e3c1ed85-3427-4af7-fa98-8a9f2ee34d36"
      },
      "source": [
        "#Random forest\n",
        "from sklearn.ensemble import RandomForestClassifier\n",
        "from sklearn.model_selection import train_test_split\n",
        "from sklearn.metrics import f1_score\n",
        "train_bow = bow[:n]\n",
        "test_bow = bow[n:]\n",
        "y=data['is_sarcastic'][:n]\n",
        "xtrain_bow, xvalid_bow, ytrain, yvalid = train_test_split(train_bow,y,random_state=42, test_size=0.3)\n",
        "clfrf=RandomForestClassifier(n_estimators=100)\n",
        "clfrf = clfrf.fit(xtrain_bow,ytrain)\n",
        "prediction=clfrf.predict_proba(xvalid_bow)\n",
        "prediction_int = prediction[:,1] >= 0.3\n",
        "prediction_int=prediction_int.astype(np.int)\n",
        "f1_score(yvalid, prediction_int)"
      ],
      "execution_count": null,
      "outputs": [
        {
          "output_type": "execute_result",
          "data": {
            "text/plain": [
              "0.8811111111111111"
            ]
          },
          "metadata": {
            "tags": []
          },
          "execution_count": 61
        }
      ]
    },
    {
      "cell_type": "code",
      "metadata": {
        "id": "4WyT09ULk2yk"
      },
      "source": [
        "test_pred = clfrf.predict_proba(test_bow)\n",
        "test_pred_int = test_pred[:,1] >= 0.5\n",
        "test_pred_int = test_pred_int.astype(np.int)\n",
        "test=data[n:]\n",
        "test['is_sarcastic'] = test_pred_int"
      ],
      "execution_count": null,
      "outputs": []
    },
    {
      "cell_type": "code",
      "metadata": {
        "id": "roYuqc0k6z2O",
        "colab": {
          "base_uri": "https://localhost:8080/",
          "height": 359
        },
        "outputId": "10f7abc3-22b0-4a86-e740-0e9140d3e429"
      },
      "source": [
        "res=clfrf.predict(test_bow[:10])\n",
        "Y_test=dataorg['headline'][n:]\n",
        "d = {'Headlines':Y_test[:10],'Result':res}\n",
        "pd.DataFrame(d)"
      ],
      "execution_count": null,
      "outputs": [
        {
          "output_type": "execute_result",
          "data": {
            "text/html": [
              "<div>\n",
              "<style scoped>\n",
              "    .dataframe tbody tr th:only-of-type {\n",
              "        vertical-align: middle;\n",
              "    }\n",
              "\n",
              "    .dataframe tbody tr th {\n",
              "        vertical-align: top;\n",
              "    }\n",
              "\n",
              "    .dataframe thead th {\n",
              "        text-align: right;\n",
              "    }\n",
              "</style>\n",
              "<table border=\"1\" class=\"dataframe\">\n",
              "  <thead>\n",
              "    <tr style=\"text-align: right;\">\n",
              "      <th></th>\n",
              "      <th>Headlines</th>\n",
              "      <th>Result</th>\n",
              "    </tr>\n",
              "  </thead>\n",
              "  <tbody>\n",
              "    <tr>\n",
              "      <th>49795</th>\n",
              "      <td>how to transform your relationship with money ...</td>\n",
              "      <td>0</td>\n",
              "    </tr>\n",
              "    <tr>\n",
              "      <th>49796</th>\n",
              "      <td>george kennedy's honor riding on internal brea...</td>\n",
              "      <td>1</td>\n",
              "    </tr>\n",
              "    <tr>\n",
              "      <th>49797</th>\n",
              "      <td>women's strike a sobering reality check for su...</td>\n",
              "      <td>1</td>\n",
              "    </tr>\n",
              "    <tr>\n",
              "      <th>49798</th>\n",
              "      <td>video game boss thinking he should get big glo...</td>\n",
              "      <td>0</td>\n",
              "    </tr>\n",
              "    <tr>\n",
              "      <th>49799</th>\n",
              "      <td>man worried any crazy person could get hands o...</td>\n",
              "      <td>1</td>\n",
              "    </tr>\n",
              "    <tr>\n",
              "      <th>49800</th>\n",
              "      <td>romney tells heartbreaking lie about single mo...</td>\n",
              "      <td>1</td>\n",
              "    </tr>\n",
              "    <tr>\n",
              "      <th>49801</th>\n",
              "      <td>life-changing epiphany wears off on ride home</td>\n",
              "      <td>1</td>\n",
              "    </tr>\n",
              "    <tr>\n",
              "      <th>49802</th>\n",
              "      <td>are there tears in your popcorn? what to learn...</td>\n",
              "      <td>0</td>\n",
              "    </tr>\n",
              "    <tr>\n",
              "      <th>49803</th>\n",
              "      <td>he told his boyfriend, 'i love you.' his boyfr...</td>\n",
              "      <td>0</td>\n",
              "    </tr>\n",
              "    <tr>\n",
              "      <th>49804</th>\n",
              "      <td>an art project over 40 years in the making let...</td>\n",
              "      <td>0</td>\n",
              "    </tr>\n",
              "  </tbody>\n",
              "</table>\n",
              "</div>"
            ],
            "text/plain": [
              "                                               Headlines  Result\n",
              "49795  how to transform your relationship with money ...       0\n",
              "49796  george kennedy's honor riding on internal brea...       1\n",
              "49797  women's strike a sobering reality check for su...       1\n",
              "49798  video game boss thinking he should get big glo...       0\n",
              "49799  man worried any crazy person could get hands o...       1\n",
              "49800  romney tells heartbreaking lie about single mo...       1\n",
              "49801      life-changing epiphany wears off on ride home       1\n",
              "49802  are there tears in your popcorn? what to learn...       0\n",
              "49803  he told his boyfriend, 'i love you.' his boyfr...       0\n",
              "49804  an art project over 40 years in the making let...       0"
            ]
          },
          "metadata": {
            "tags": []
          },
          "execution_count": 68
        }
      ]
    },
    {
      "cell_type": "code",
      "metadata": {
        "id": "YdmpcffKwHJA",
        "colab": {
          "base_uri": "https://localhost:8080/",
          "height": 306
        },
        "outputId": "b5292761-406b-4967-9094-f7a107b93eaa"
      },
      "source": [
        "from keras.preprocessing.text import Tokenizer\n",
        "from keras.preprocessing import sequence\n",
        "from keras.preprocessing.sequence import pad_sequences\n",
        "import numpy as np\n",
        "max_features=2000\n",
        "max_token = len(max(data['headline']))\n",
        "tokenizer = Tokenizer(num_words=max_features)\n",
        "tokenizer.fit_on_texts(data['headline'])\n",
        "sequences = tokenizer.texts_to_sequences(data['headline'])\n",
        "X = pad_sequences(sequences, maxlen=max_token)\n",
        "from sklearn.model_selection import train_test_split\n",
        "Y = data['is_sarcastic'].values\n",
        "Y = np.vstack(Y)\n",
        "X_train,X_test,Y_train,Y_test = train_test_split(X,Y,test_size=0.3, random_state = 42)\n",
        "from keras.layers import LSTM, Activation, Dense, Dropout, Input, Embedding\n",
        "from keras.models import Sequential\n",
        "from keras.layers import Dense, Embedding, LSTM\n",
        "embed_dim = 64\n",
        "model = Sequential()\n",
        "model.add(Embedding(max_features, embed_dim,input_length =(max_token)))\n",
        "model.add(LSTM(96, dropout=0.2, recurrent_dropout=0.2, activation='relu'))\n",
        "model.add(Dense(1))\n",
        "model.add(Activation('sigmoid'))\n",
        "model.compile(loss = 'binary_crossentropy', optimizer='adam',metrics = ['accuracy'])\n",
        "print(model.summary())"
      ],
      "execution_count": null,
      "outputs": [
        {
          "output_type": "stream",
          "text": [
            "Model: \"sequential_4\"\n",
            "_________________________________________________________________\n",
            "Layer (type)                 Output Shape              Param #   \n",
            "=================================================================\n",
            "embedding_4 (Embedding)      (None, 96, 64)            128000    \n",
            "_________________________________________________________________\n",
            "lstm_4 (LSTM)                (None, 96)                61824     \n",
            "_________________________________________________________________\n",
            "dense_4 (Dense)              (None, 1)                 97        \n",
            "_________________________________________________________________\n",
            "activation_4 (Activation)    (None, 1)                 0         \n",
            "=================================================================\n",
            "Total params: 189,921\n",
            "Trainable params: 189,921\n",
            "Non-trainable params: 0\n",
            "_________________________________________________________________\n",
            "None\n"
          ],
          "name": "stdout"
        }
      ]
    },
    {
      "cell_type": "code",
      "metadata": {
        "id": "yAG6kjmW4-ww"
      },
      "source": [
        "train_bow.shape"
      ],
      "execution_count": null,
      "outputs": []
    },
    {
      "cell_type": "code",
      "metadata": {
        "id": "4a1iCa7m3XGd",
        "colab": {
          "base_uri": "https://localhost:8080/",
          "height": 768
        },
        "outputId": "cc9b4e5d-56d8-45e4-8b47-cd604ea20019"
      },
      "source": [
        "epoch = 20\n",
        "batch_size = 128\n",
        "model.fit(X_train, Y_train, epochs = epoch, batch_size=batch_size, verbose = 2)"
      ],
      "execution_count": null,
      "outputs": [
        {
          "output_type": "stream",
          "text": [
            "/usr/local/lib/python3.6/dist-packages/tensorflow/python/framework/indexed_slices.py:434: UserWarning: Converting sparse IndexedSlices to a dense Tensor of unknown shape. This may consume a large amount of memory.\n",
            "  \"Converting sparse IndexedSlices to a dense Tensor of unknown shape. \"\n"
          ],
          "name": "stderr"
        },
        {
          "output_type": "stream",
          "text": [
            "Epoch 1/20\n",
            " - 82s - loss: 0.5590 - accuracy: 0.7649\n",
            "Epoch 2/20\n",
            " - 82s - loss: 0.3855 - accuracy: 0.8553\n",
            "Epoch 3/20\n",
            " - 82s - loss: 0.3116 - accuracy: 0.8673\n",
            "Epoch 4/20\n",
            " - 82s - loss: 0.2950 - accuracy: 0.8730\n",
            "Epoch 5/20\n",
            " - 82s - loss: 53783.3044 - accuracy: 0.8730\n",
            "Epoch 6/20\n",
            " - 81s - loss: 1450.1442 - accuracy: 0.8711\n",
            "Epoch 7/20\n",
            " - 81s - loss: 0.2851 - accuracy: 0.8783\n",
            "Epoch 8/20\n",
            " - 81s - loss: 0.2759 - accuracy: 0.8805\n",
            "Epoch 9/20\n",
            " - 82s - loss: 0.2678 - accuracy: 0.8844\n",
            "Epoch 10/20\n",
            " - 82s - loss: 0.2872 - accuracy: 0.8845\n",
            "Epoch 11/20\n",
            " - 81s - loss: 0.2589 - accuracy: 0.8884\n",
            "Epoch 12/20\n",
            " - 82s - loss: 0.2549 - accuracy: 0.8883\n",
            "Epoch 13/20\n",
            " - 82s - loss: 0.2497 - accuracy: 0.8912\n",
            "Epoch 14/20\n",
            " - 82s - loss: 0.2465 - accuracy: 0.8935\n",
            "Epoch 15/20\n",
            " - 82s - loss: 0.2402 - accuracy: 0.8948\n",
            "Epoch 16/20\n",
            " - 82s - loss: 0.2330 - accuracy: 0.8980\n",
            "Epoch 17/20\n",
            " - 81s - loss: 0.2277 - accuracy: 0.9017\n",
            "Epoch 18/20\n",
            " - 82s - loss: 0.2220 - accuracy: 0.9043\n",
            "Epoch 19/20\n",
            " - 81s - loss: 0.2166 - accuracy: 0.9063\n",
            "Epoch 20/20\n",
            " - 81s - loss: 0.2105 - accuracy: 0.9089\n"
          ],
          "name": "stdout"
        },
        {
          "output_type": "execute_result",
          "data": {
            "text/plain": [
              "<keras.callbacks.callbacks.History at 0x7f9ab0413b00>"
            ]
          },
          "metadata": {
            "tags": []
          },
          "execution_count": 40
        }
      ]
    },
    {
      "cell_type": "code",
      "metadata": {
        "id": "nuued-kr_BP8",
        "colab": {
          "base_uri": "https://localhost:8080/",
          "height": 34
        },
        "outputId": "f3edd367-2d68-4a60-950b-f82e732d6440"
      },
      "source": [
        "result = model.predict(X_test)\n",
        "crr=0\n",
        "for i in range(len(X_test)):\n",
        "  if(np.around(result[i])==np.around(Y_test[i])):\n",
        "    crr=crr+1\n",
        "acc=crr/(len(X_test))\n",
        "print(acc)"
      ],
      "execution_count": null,
      "outputs": [
        {
          "output_type": "stream",
          "text": [
            "0.8799927706488343\n"
          ],
          "name": "stdout"
        }
      ]
    },
    {
      "cell_type": "code",
      "metadata": {
        "id": "5CI0A_Sw6jDO",
        "colab": {
          "base_uri": "https://localhost:8080/",
          "height": 359
        },
        "outputId": "a4543368-8598-494f-cbdb-d130b5a3a2f1"
      },
      "source": [
        "res=model.predict(X_test[:10])\n",
        "res2=[]\n",
        "for i in range(10):\n",
        "  res2.append(int(np.around(res[i])))\n",
        "testhead=dataorg['headline'][n:]\n",
        "d = {'Headlines':testhead[:10],'Result':res2}\n",
        "pd.DataFrame(d)"
      ],
      "execution_count": null,
      "outputs": [
        {
          "output_type": "execute_result",
          "data": {
            "text/html": [
              "<div>\n",
              "<style scoped>\n",
              "    .dataframe tbody tr th:only-of-type {\n",
              "        vertical-align: middle;\n",
              "    }\n",
              "\n",
              "    .dataframe tbody tr th {\n",
              "        vertical-align: top;\n",
              "    }\n",
              "\n",
              "    .dataframe thead th {\n",
              "        text-align: right;\n",
              "    }\n",
              "</style>\n",
              "<table border=\"1\" class=\"dataframe\">\n",
              "  <thead>\n",
              "    <tr style=\"text-align: right;\">\n",
              "      <th></th>\n",
              "      <th>Headlines</th>\n",
              "      <th>Result</th>\n",
              "    </tr>\n",
              "  </thead>\n",
              "  <tbody>\n",
              "    <tr>\n",
              "      <th>49795</th>\n",
              "      <td>how to transform your relationship with money ...</td>\n",
              "      <td>0</td>\n",
              "    </tr>\n",
              "    <tr>\n",
              "      <th>49796</th>\n",
              "      <td>george kennedy's honor riding on internal brea...</td>\n",
              "      <td>0</td>\n",
              "    </tr>\n",
              "    <tr>\n",
              "      <th>49797</th>\n",
              "      <td>women's strike a sobering reality check for su...</td>\n",
              "      <td>0</td>\n",
              "    </tr>\n",
              "    <tr>\n",
              "      <th>49798</th>\n",
              "      <td>video game boss thinking he should get big glo...</td>\n",
              "      <td>1</td>\n",
              "    </tr>\n",
              "    <tr>\n",
              "      <th>49799</th>\n",
              "      <td>man worried any crazy person could get hands o...</td>\n",
              "      <td>0</td>\n",
              "    </tr>\n",
              "    <tr>\n",
              "      <th>49800</th>\n",
              "      <td>romney tells heartbreaking lie about single mo...</td>\n",
              "      <td>0</td>\n",
              "    </tr>\n",
              "    <tr>\n",
              "      <th>49801</th>\n",
              "      <td>life-changing epiphany wears off on ride home</td>\n",
              "      <td>1</td>\n",
              "    </tr>\n",
              "    <tr>\n",
              "      <th>49802</th>\n",
              "      <td>are there tears in your popcorn? what to learn...</td>\n",
              "      <td>1</td>\n",
              "    </tr>\n",
              "    <tr>\n",
              "      <th>49803</th>\n",
              "      <td>he told his boyfriend, 'i love you.' his boyfr...</td>\n",
              "      <td>0</td>\n",
              "    </tr>\n",
              "    <tr>\n",
              "      <th>49804</th>\n",
              "      <td>an art project over 40 years in the making let...</td>\n",
              "      <td>0</td>\n",
              "    </tr>\n",
              "  </tbody>\n",
              "</table>\n",
              "</div>"
            ],
            "text/plain": [
              "                                               Headlines  Result\n",
              "49795  how to transform your relationship with money ...       0\n",
              "49796  george kennedy's honor riding on internal brea...       0\n",
              "49797  women's strike a sobering reality check for su...       0\n",
              "49798  video game boss thinking he should get big glo...       1\n",
              "49799  man worried any crazy person could get hands o...       0\n",
              "49800  romney tells heartbreaking lie about single mo...       0\n",
              "49801      life-changing epiphany wears off on ride home       1\n",
              "49802  are there tears in your popcorn? what to learn...       1\n",
              "49803  he told his boyfriend, 'i love you.' his boyfr...       0\n",
              "49804  an art project over 40 years in the making let...       0"
            ]
          },
          "metadata": {
            "tags": []
          },
          "execution_count": 42
        }
      ]
    },
    {
      "cell_type": "code",
      "metadata": {
        "id": "x1wT-cSPUEmG",
        "colab": {
          "base_uri": "https://localhost:8080/",
          "height": 359
        },
        "outputId": "4b6c4e62-43e6-48e5-ed12-f4509a107a48"
      },
      "source": [
        "resy=[]\n",
        "for i in range(10):\n",
        "  resy.append(int(np.around(Y_test[i])))\n",
        "d = {'Headlines':X_test[:10],'Result':resy}\n",
        "pd.DataFrame(d)\n",
        "#print(Y_test[:10])"
      ],
      "execution_count": null,
      "outputs": [
        {
          "output_type": "execute_result",
          "data": {
            "text/html": [
              "<div>\n",
              "<style scoped>\n",
              "    .dataframe tbody tr th:only-of-type {\n",
              "        vertical-align: middle;\n",
              "    }\n",
              "\n",
              "    .dataframe tbody tr th {\n",
              "        vertical-align: top;\n",
              "    }\n",
              "\n",
              "    .dataframe thead th {\n",
              "        text-align: right;\n",
              "    }\n",
              "</style>\n",
              "<table border=\"1\" class=\"dataframe\">\n",
              "  <thead>\n",
              "    <tr style=\"text-align: right;\">\n",
              "      <th></th>\n",
              "      <th>Headlines</th>\n",
              "      <th>Result</th>\n",
              "    </tr>\n",
              "  </thead>\n",
              "  <tbody>\n",
              "    <tr>\n",
              "      <th>49795</th>\n",
              "      <td>how to transform your relationship with money ...</td>\n",
              "      <td>0</td>\n",
              "    </tr>\n",
              "    <tr>\n",
              "      <th>49796</th>\n",
              "      <td>george kennedy's honor riding on internal brea...</td>\n",
              "      <td>0</td>\n",
              "    </tr>\n",
              "    <tr>\n",
              "      <th>49797</th>\n",
              "      <td>women's strike a sobering reality check for su...</td>\n",
              "      <td>0</td>\n",
              "    </tr>\n",
              "    <tr>\n",
              "      <th>49798</th>\n",
              "      <td>video game boss thinking he should get big glo...</td>\n",
              "      <td>1</td>\n",
              "    </tr>\n",
              "    <tr>\n",
              "      <th>49799</th>\n",
              "      <td>man worried any crazy person could get hands o...</td>\n",
              "      <td>0</td>\n",
              "    </tr>\n",
              "    <tr>\n",
              "      <th>49800</th>\n",
              "      <td>romney tells heartbreaking lie about single mo...</td>\n",
              "      <td>0</td>\n",
              "    </tr>\n",
              "    <tr>\n",
              "      <th>49801</th>\n",
              "      <td>life-changing epiphany wears off on ride home</td>\n",
              "      <td>0</td>\n",
              "    </tr>\n",
              "    <tr>\n",
              "      <th>49802</th>\n",
              "      <td>are there tears in your popcorn? what to learn...</td>\n",
              "      <td>1</td>\n",
              "    </tr>\n",
              "    <tr>\n",
              "      <th>49803</th>\n",
              "      <td>he told his boyfriend, 'i love you.' his boyfr...</td>\n",
              "      <td>0</td>\n",
              "    </tr>\n",
              "    <tr>\n",
              "      <th>49804</th>\n",
              "      <td>an art project over 40 years in the making let...</td>\n",
              "      <td>0</td>\n",
              "    </tr>\n",
              "  </tbody>\n",
              "</table>\n",
              "</div>"
            ],
            "text/plain": [
              "                                               Headlines  Result\n",
              "49795  how to transform your relationship with money ...       0\n",
              "49796  george kennedy's honor riding on internal brea...       0\n",
              "49797  women's strike a sobering reality check for su...       0\n",
              "49798  video game boss thinking he should get big glo...       1\n",
              "49799  man worried any crazy person could get hands o...       0\n",
              "49800  romney tells heartbreaking lie about single mo...       0\n",
              "49801      life-changing epiphany wears off on ride home       0\n",
              "49802  are there tears in your popcorn? what to learn...       1\n",
              "49803  he told his boyfriend, 'i love you.' his boyfr...       0\n",
              "49804  an art project over 40 years in the making let...       0"
            ]
          },
          "metadata": {
            "tags": []
          },
          "execution_count": 34
        }
      ]
    }
  ]
}