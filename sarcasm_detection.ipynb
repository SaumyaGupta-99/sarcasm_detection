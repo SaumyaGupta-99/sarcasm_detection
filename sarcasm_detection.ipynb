{
  "nbformat": 4,
  "nbformat_minor": 0,
  "metadata": {
    "colab": {
      "name": "sarcasm_detection.ipynb",
      "provenance": [],
      "collapsed_sections": [],
      "authorship_tag": "ABX9TyNcLk03chZ/0qiz3sWE0wb9",
      "include_colab_link": true
    },
    "kernelspec": {
      "name": "python3",
      "display_name": "Python 3"
    }
  },
  "cells": [
    {
      "cell_type": "markdown",
      "metadata": {
        "id": "view-in-github",
        "colab_type": "text"
      },
      "source": [
        "<a href=\"https://colab.research.google.com/github/SaumyaGupta-99/sarcasm_detection/blob/master/sarcasm_detection.ipynb\" target=\"_parent\"><img src=\"https://colab.research.google.com/assets/colab-badge.svg\" alt=\"Open In Colab\"/></a>"
      ]
    },
    {
      "cell_type": "code",
      "metadata": {
        "id": "8Ze6iZWRFF0W",
        "colab_type": "code",
        "outputId": "a3814ed4-5367-4aba-8e97-ff4c33bd5fce",
        "colab": {
          "base_uri": "https://localhost:8080/",
          "height": 122
        }
      },
      "source": [
        "from pydrive.auth import GoogleAuth\n",
        "from pydrive.drive import GoogleDrive\n",
        "from google.colab import auth\n",
        "from oauth2client.client import GoogleCredentials\n",
        "from google.colab import drive\n",
        "drive.mount('/content/drive')"
      ],
      "execution_count": 1,
      "outputs": [
        {
          "output_type": "stream",
          "text": [
            "Go to this URL in a browser: https://accounts.google.com/o/oauth2/auth?client_id=947318989803-6bn6qk8qdgf4n4g3pfee6491hc0brc4i.apps.googleusercontent.com&redirect_uri=urn%3aietf%3awg%3aoauth%3a2.0%3aoob&response_type=code&scope=email%20https%3a%2f%2fwww.googleapis.com%2fauth%2fdocs.test%20https%3a%2f%2fwww.googleapis.com%2fauth%2fdrive%20https%3a%2f%2fwww.googleapis.com%2fauth%2fdrive.photos.readonly%20https%3a%2f%2fwww.googleapis.com%2fauth%2fpeopleapi.readonly\n",
            "\n",
            "Enter your authorization code:\n",
            "··········\n",
            "Mounted at /content/drive\n"
          ],
          "name": "stdout"
        }
      ]
    },
    {
      "cell_type": "code",
      "metadata": {
        "id": "iJy1s140HZLd",
        "colab_type": "code",
        "outputId": "c26bc173-53eb-4ac9-e2c0-91364fa74de4",
        "colab": {
          "base_uri": "https://localhost:8080/",
          "height": 153
        }
      },
      "source": [
        "%cd /content/drive\n",
        "%cd My Drive\n",
        "%ls"
      ],
      "execution_count": 2,
      "outputs": [
        {
          "output_type": "stream",
          "text": [
            "/content/drive\n",
            "/content/drive/My Drive\n",
            "\u001b[0m\u001b[01;34m'Colab Notebooks'\u001b[0m/              idd20k_lite.zip     \u001b[01;34msarcasm_detection\u001b[0m/\n",
            "'cvupdated (1).pdf'             \u001b[01;34middx\u001b[0m/              'SAUMYA GUPTA.jpg'\n",
            " cvupdated.pdf                 'Internship .gdoc'   saumya.pdf\n",
            " Digital_Image_Processing.pdf  'PHP PDO.gslides'    \u001b[01;34mtextgeneration\u001b[0m/\n",
            " \u001b[01;34memotion_detection\u001b[0m/            'PHP PDO.pptx'       \u001b[01;34mtoxic-comment\u001b[0m/\n",
            " \u001b[01;34midd\u001b[0m/                          \u001b[01;34m'Previous QP'\u001b[0m/\n"
          ],
          "name": "stdout"
        }
      ]
    },
    {
      "cell_type": "code",
      "metadata": {
        "id": "HThP62RSC5Mc",
        "colab_type": "code",
        "colab": {}
      },
      "source": [
        "import re\n",
        "import pandas as pd\n",
        "import numpy as np\n",
        "import matplotlib.pyplot as plt\n",
        "import string\n",
        "import seaborn as sns\n",
        "import nltk\n",
        "import warnings\n",
        "warnings.filterwarnings(\"ignore\",category=DeprecationWarning)\n",
        "# import json\n",
        "# with open('/content/drive/My Drive/sarcasm_detection/Sarcasm_Headlines_Dataset_v2.json') as f:\n",
        "#    data1 = json.load(f)\n",
        "# print (data1)\n",
        "# with open('/content/drive/My Drive/sarcasm_detection/Sarcasm_Headlines_Dataset.json') as f:\n",
        "#    data2 = json.load(f)\n",
        "# print (data2)\n",
        "train1=pd.read_json('/content/drive/My Drive/sarcasm_detection/Sarcasm_Headlines_Dataset_v2.json',lines=True)\n",
        "train2=pd.read_json(\"/content/drive/My Drive/sarcasm_detection/Sarcasm_Headlines_Dataset.json\",lines=True)"
      ],
      "execution_count": 0,
      "outputs": []
    },
    {
      "cell_type": "code",
      "metadata": {
        "id": "SK8OS17fIbX2",
        "colab_type": "code",
        "outputId": "410aa5fc-0be8-48ab-f7d5-3f7222c0471d",
        "colab": {
          "base_uri": "https://localhost:8080/",
          "height": 204
        }
      },
      "source": [
        "train1.head()"
      ],
      "execution_count": 4,
      "outputs": [
        {
          "output_type": "execute_result",
          "data": {
            "text/html": [
              "<div>\n",
              "<style scoped>\n",
              "    .dataframe tbody tr th:only-of-type {\n",
              "        vertical-align: middle;\n",
              "    }\n",
              "\n",
              "    .dataframe tbody tr th {\n",
              "        vertical-align: top;\n",
              "    }\n",
              "\n",
              "    .dataframe thead th {\n",
              "        text-align: right;\n",
              "    }\n",
              "</style>\n",
              "<table border=\"1\" class=\"dataframe\">\n",
              "  <thead>\n",
              "    <tr style=\"text-align: right;\">\n",
              "      <th></th>\n",
              "      <th>is_sarcastic</th>\n",
              "      <th>headline</th>\n",
              "      <th>article_link</th>\n",
              "    </tr>\n",
              "  </thead>\n",
              "  <tbody>\n",
              "    <tr>\n",
              "      <th>0</th>\n",
              "      <td>1</td>\n",
              "      <td>thirtysomething scientists unveil doomsday clo...</td>\n",
              "      <td>https://www.theonion.com/thirtysomething-scien...</td>\n",
              "    </tr>\n",
              "    <tr>\n",
              "      <th>1</th>\n",
              "      <td>0</td>\n",
              "      <td>dem rep. totally nails why congress is falling...</td>\n",
              "      <td>https://www.huffingtonpost.com/entry/donna-edw...</td>\n",
              "    </tr>\n",
              "    <tr>\n",
              "      <th>2</th>\n",
              "      <td>0</td>\n",
              "      <td>eat your veggies: 9 deliciously different recipes</td>\n",
              "      <td>https://www.huffingtonpost.com/entry/eat-your-...</td>\n",
              "    </tr>\n",
              "    <tr>\n",
              "      <th>3</th>\n",
              "      <td>1</td>\n",
              "      <td>inclement weather prevents liar from getting t...</td>\n",
              "      <td>https://local.theonion.com/inclement-weather-p...</td>\n",
              "    </tr>\n",
              "    <tr>\n",
              "      <th>4</th>\n",
              "      <td>1</td>\n",
              "      <td>mother comes pretty close to using word 'strea...</td>\n",
              "      <td>https://www.theonion.com/mother-comes-pretty-c...</td>\n",
              "    </tr>\n",
              "  </tbody>\n",
              "</table>\n",
              "</div>"
            ],
            "text/plain": [
              "   is_sarcastic  ...                                       article_link\n",
              "0             1  ...  https://www.theonion.com/thirtysomething-scien...\n",
              "1             0  ...  https://www.huffingtonpost.com/entry/donna-edw...\n",
              "2             0  ...  https://www.huffingtonpost.com/entry/eat-your-...\n",
              "3             1  ...  https://local.theonion.com/inclement-weather-p...\n",
              "4             1  ...  https://www.theonion.com/mother-comes-pretty-c...\n",
              "\n",
              "[5 rows x 3 columns]"
            ]
          },
          "metadata": {
            "tags": []
          },
          "execution_count": 4
        }
      ]
    },
    {
      "cell_type": "code",
      "metadata": {
        "id": "mUyITnQ5ImF6",
        "colab_type": "code",
        "outputId": "6af495ff-0ddc-4c4d-ae93-0f45365c0865",
        "colab": {
          "base_uri": "https://localhost:8080/",
          "height": 360
        }
      },
      "source": [
        "data=train1.append(train2,ignore_index=True)\n",
        "data.head()"
      ],
      "execution_count": 5,
      "outputs": [
        {
          "output_type": "stream",
          "text": [
            "/usr/local/lib/python3.6/dist-packages/pandas/core/frame.py:7138: FutureWarning: Sorting because non-concatenation axis is not aligned. A future version\n",
            "of pandas will change to not sort by default.\n",
            "\n",
            "To accept the future behavior, pass 'sort=False'.\n",
            "\n",
            "To retain the current behavior and silence the warning, pass 'sort=True'.\n",
            "\n",
            "  sort=sort,\n"
          ],
          "name": "stderr"
        },
        {
          "output_type": "execute_result",
          "data": {
            "text/html": [
              "<div>\n",
              "<style scoped>\n",
              "    .dataframe tbody tr th:only-of-type {\n",
              "        vertical-align: middle;\n",
              "    }\n",
              "\n",
              "    .dataframe tbody tr th {\n",
              "        vertical-align: top;\n",
              "    }\n",
              "\n",
              "    .dataframe thead th {\n",
              "        text-align: right;\n",
              "    }\n",
              "</style>\n",
              "<table border=\"1\" class=\"dataframe\">\n",
              "  <thead>\n",
              "    <tr style=\"text-align: right;\">\n",
              "      <th></th>\n",
              "      <th>article_link</th>\n",
              "      <th>headline</th>\n",
              "      <th>is_sarcastic</th>\n",
              "    </tr>\n",
              "  </thead>\n",
              "  <tbody>\n",
              "    <tr>\n",
              "      <th>0</th>\n",
              "      <td>https://www.theonion.com/thirtysomething-scien...</td>\n",
              "      <td>thirtysomething scientists unveil doomsday clo...</td>\n",
              "      <td>1</td>\n",
              "    </tr>\n",
              "    <tr>\n",
              "      <th>1</th>\n",
              "      <td>https://www.huffingtonpost.com/entry/donna-edw...</td>\n",
              "      <td>dem rep. totally nails why congress is falling...</td>\n",
              "      <td>0</td>\n",
              "    </tr>\n",
              "    <tr>\n",
              "      <th>2</th>\n",
              "      <td>https://www.huffingtonpost.com/entry/eat-your-...</td>\n",
              "      <td>eat your veggies: 9 deliciously different recipes</td>\n",
              "      <td>0</td>\n",
              "    </tr>\n",
              "    <tr>\n",
              "      <th>3</th>\n",
              "      <td>https://local.theonion.com/inclement-weather-p...</td>\n",
              "      <td>inclement weather prevents liar from getting t...</td>\n",
              "      <td>1</td>\n",
              "    </tr>\n",
              "    <tr>\n",
              "      <th>4</th>\n",
              "      <td>https://www.theonion.com/mother-comes-pretty-c...</td>\n",
              "      <td>mother comes pretty close to using word 'strea...</td>\n",
              "      <td>1</td>\n",
              "    </tr>\n",
              "  </tbody>\n",
              "</table>\n",
              "</div>"
            ],
            "text/plain": [
              "                                        article_link  ... is_sarcastic\n",
              "0  https://www.theonion.com/thirtysomething-scien...  ...            1\n",
              "1  https://www.huffingtonpost.com/entry/donna-edw...  ...            0\n",
              "2  https://www.huffingtonpost.com/entry/eat-your-...  ...            0\n",
              "3  https://local.theonion.com/inclement-weather-p...  ...            1\n",
              "4  https://www.theonion.com/mother-comes-pretty-c...  ...            1\n",
              "\n",
              "[5 rows x 3 columns]"
            ]
          },
          "metadata": {
            "tags": []
          },
          "execution_count": 5
        }
      ]
    },
    {
      "cell_type": "code",
      "metadata": {
        "id": "ioArN9-RJIgu",
        "colab_type": "code",
        "outputId": "0c5403fe-d76d-4ff8-de92-c1b361463cc1",
        "colab": {
          "base_uri": "https://localhost:8080/",
          "height": 119
        }
      },
      "source": [
        "data['headline']=data['headline'].str.replace(\"[^a-zA-Z]\",' ')\n",
        "data['headline'].head()\n",
        "hl_cleansed = []"
      ],
      "execution_count": 6,
      "outputs": [
        {
          "output_type": "execute_result",
          "data": {
            "text/plain": [
              "0    thirtysomething scientists unveil doomsday clo...\n",
              "1    dem rep  totally nails why congress is falling...\n",
              "2    eat your veggies    deliciously different recipes\n",
              "3    inclement weather prevents liar from getting t...\n",
              "4    mother comes pretty close to using word  strea...\n",
              "Name: headline, dtype: object"
            ]
          },
          "metadata": {
            "tags": []
          },
          "execution_count": 6
        }
      ]
    },
    {
      "cell_type": "code",
      "metadata": {
        "id": "vFp0_FmWLCT8",
        "colab_type": "code",
        "outputId": "f258b25c-e2d8-45f2-ad5b-c2a78824a134",
        "colab": {
          "base_uri": "https://localhost:8080/",
          "height": 119
        }
      },
      "source": [
        "data['headline']=data['headline'].apply(lambda x: ' '.join([w for w in x.split() if len(w)>2]))\n",
        "data['headline'].head()"
      ],
      "execution_count": 7,
      "outputs": [
        {
          "output_type": "execute_result",
          "data": {
            "text/plain": [
              "0    thirtysomething scientists unveil doomsday clo...\n",
              "1    dem rep totally nails why congress falling sho...\n",
              "2       eat your veggies deliciously different recipes\n",
              "3    inclement weather prevents liar from getting work\n",
              "4    mother comes pretty close using word streaming...\n",
              "Name: headline, dtype: object"
            ]
          },
          "metadata": {
            "tags": []
          },
          "execution_count": 7
        }
      ]
    },
    {
      "cell_type": "code",
      "metadata": {
        "id": "LxycQkB6Lkbo",
        "colab_type": "code",
        "outputId": "4b240aba-033f-43e5-d4df-9c107933411f",
        "colab": {
          "base_uri": "https://localhost:8080/",
          "height": 119
        }
      },
      "source": [
        "tokenized_words=data['headline'].apply(lambda x: x.split())\n",
        "tokenized_words.head()"
      ],
      "execution_count": 8,
      "outputs": [
        {
          "output_type": "execute_result",
          "data": {
            "text/plain": [
              "0    [thirtysomething, scientists, unveil, doomsday...\n",
              "1    [dem, rep, totally, nails, why, congress, fall...\n",
              "2    [eat, your, veggies, deliciously, different, r...\n",
              "3    [inclement, weather, prevents, liar, from, get...\n",
              "4    [mother, comes, pretty, close, using, word, st...\n",
              "Name: headline, dtype: object"
            ]
          },
          "metadata": {
            "tags": []
          },
          "execution_count": 8
        }
      ]
    },
    {
      "cell_type": "code",
      "metadata": {
        "id": "i85m0GxkMuPK",
        "colab_type": "code",
        "outputId": "fa277154-e69c-41b3-be60-dd2ae15eff47",
        "colab": {
          "base_uri": "https://localhost:8080/",
          "height": 68
        }
      },
      "source": [
        "nltk.download('wordnet')"
      ],
      "execution_count": 9,
      "outputs": [
        {
          "output_type": "stream",
          "text": [
            "[nltk_data] Downloading package wordnet to /root/nltk_data...\n",
            "[nltk_data]   Unzipping corpora/wordnet.zip.\n"
          ],
          "name": "stdout"
        },
        {
          "output_type": "execute_result",
          "data": {
            "text/plain": [
              "True"
            ]
          },
          "metadata": {
            "tags": []
          },
          "execution_count": 9
        }
      ]
    },
    {
      "cell_type": "code",
      "metadata": {
        "id": "slvFqwY8L0hK",
        "colab_type": "code",
        "outputId": "c9e0f480-e773-464e-a6f4-7a412dfe0967",
        "colab": {
          "base_uri": "https://localhost:8080/",
          "height": 119
        }
      },
      "source": [
        "from nltk.stem import WordNetLemmatizer \n",
        "lemmatizer = WordNetLemmatizer()   \n",
        "tokenized_words=tokenized_words.apply(lambda x: [lemmatizer.lemmatize(i) for i in x])\n",
        "tokenized_words.head()"
      ],
      "execution_count": 10,
      "outputs": [
        {
          "output_type": "execute_result",
          "data": {
            "text/plain": [
              "0    [thirtysomething, scientist, unveil, doomsday,...\n",
              "1    [dem, rep, totally, nail, why, congress, falli...\n",
              "2    [eat, your, veggie, deliciously, different, re...\n",
              "3    [inclement, weather, prevents, liar, from, get...\n",
              "4    [mother, come, pretty, close, using, word, str...\n",
              "Name: headline, dtype: object"
            ]
          },
          "metadata": {
            "tags": []
          },
          "execution_count": 10
        }
      ]
    },
    {
      "cell_type": "code",
      "metadata": {
        "id": "btiFGk5_NR-F",
        "colab_type": "code",
        "outputId": "9c24782c-5ceb-425e-923d-7bed1c72ee48",
        "colab": {
          "base_uri": "https://localhost:8080/",
          "height": 119
        }
      },
      "source": [
        "for i in range(len(tokenized_words)):\n",
        "  tokenized_words[i]=\" \".join(tokenized_words[i])\n",
        "data['headline']=tokenized_words\n",
        "data['headline'].head()"
      ],
      "execution_count": 11,
      "outputs": [
        {
          "output_type": "execute_result",
          "data": {
            "text/plain": [
              "0    thirtysomething scientist unveil doomsday cloc...\n",
              "1    dem rep totally nail why congress falling shor...\n",
              "2         eat your veggie deliciously different recipe\n",
              "3    inclement weather prevents liar from getting work\n",
              "4    mother come pretty close using word streaming ...\n",
              "Name: headline, dtype: object"
            ]
          },
          "metadata": {
            "tags": []
          },
          "execution_count": 11
        }
      ]
    },
    {
      "cell_type": "code",
      "metadata": {
        "id": "DLtMvcNGYYEx",
        "colab_type": "code",
        "colab": {}
      },
      "source": [
        "from sklearn.feature_extraction.text import CountVectorizer\n",
        "bow_vectorizer=CountVectorizer(max_df=0.80,min_df=2,stop_words='english')\n",
        "bow=bow_vectorizer.fit_transform(data['headline'])"
      ],
      "execution_count": 0,
      "outputs": []
    },
    {
      "cell_type": "code",
      "metadata": {
        "id": "ZVTOO9EdZ4k2",
        "colab_type": "code",
        "outputId": "668311a0-4b31-45ce-8d9e-1b274d2c9d35",
        "colab": {
          "base_uri": "https://localhost:8080/",
          "height": 34
        }
      },
      "source": [
        "n=(int)(len(data)*0.9)\n",
        "print(n)"
      ],
      "execution_count": 13,
      "outputs": [
        {
          "output_type": "stream",
          "text": [
            "49795\n"
          ],
          "name": "stdout"
        }
      ]
    },
    {
      "cell_type": "code",
      "metadata": {
        "id": "0lT1PE6sbfbB",
        "colab_type": "code",
        "outputId": "bc4d0353-fb46-4d21-eeaa-f08f7fa1725e",
        "colab": {
          "base_uri": "https://localhost:8080/",
          "height": 34
        }
      },
      "source": [
        "#Decisiontree\n",
        "from sklearn.tree import DecisionTreeClassifier\n",
        "from sklearn.model_selection import train_test_split\n",
        "from sklearn.metrics import f1_score\n",
        "train_bow = bow[:n]\n",
        "test_bow = bow[n:]\n",
        "y=data['is_sarcastic'][:n]\n",
        "xtrain_bow, xvalid_bow, ytrain, yvalid = train_test_split(train_bow,y,random_state=42, test_size=0.3)\n",
        "clf = DecisionTreeClassifier()\n",
        "clf = clf.fit(xtrain_bow,ytrain)\n",
        "prediction=clf.predict_proba(xvalid_bow)\n",
        "prediction_int = prediction[:,1] >= 0.3\n",
        "prediction_int=prediction_int.astype(np.int)\n",
        "f1_score(yvalid, prediction_int)"
      ],
      "execution_count": 37,
      "outputs": [
        {
          "output_type": "execute_result",
          "data": {
            "text/plain": [
              "0.8693663789924025"
            ]
          },
          "metadata": {
            "tags": []
          },
          "execution_count": 37
        }
      ]
    },
    {
      "cell_type": "code",
      "metadata": {
        "id": "vY5GoDkxjHno",
        "colab_type": "code",
        "outputId": "9ea62378-6e7a-443d-f962-1e8c9783e501",
        "colab": {
          "base_uri": "https://localhost:8080/",
          "height": 306
        }
      },
      "source": [
        "test_pred = clf.predict_proba(test_bow)\n",
        "test_pred_int = test_pred[:,1] >= 0.3\n",
        "test_pred_int = test_pred_int.astype(np.int)\n",
        "test=data[n:]\n",
        "test['is_sarcastic'] = test_pred_int\n",
        "test.head()"
      ],
      "execution_count": 28,
      "outputs": [
        {
          "output_type": "stream",
          "text": [
            "/usr/local/lib/python3.6/dist-packages/ipykernel_launcher.py:5: SettingWithCopyWarning: \n",
            "A value is trying to be set on a copy of a slice from a DataFrame.\n",
            "Try using .loc[row_indexer,col_indexer] = value instead\n",
            "\n",
            "See the caveats in the documentation: http://pandas.pydata.org/pandas-docs/stable/user_guide/indexing.html#returning-a-view-versus-a-copy\n",
            "  \"\"\"\n"
          ],
          "name": "stderr"
        },
        {
          "output_type": "execute_result",
          "data": {
            "text/html": [
              "<div>\n",
              "<style scoped>\n",
              "    .dataframe tbody tr th:only-of-type {\n",
              "        vertical-align: middle;\n",
              "    }\n",
              "\n",
              "    .dataframe tbody tr th {\n",
              "        vertical-align: top;\n",
              "    }\n",
              "\n",
              "    .dataframe thead th {\n",
              "        text-align: right;\n",
              "    }\n",
              "</style>\n",
              "<table border=\"1\" class=\"dataframe\">\n",
              "  <thead>\n",
              "    <tr style=\"text-align: right;\">\n",
              "      <th></th>\n",
              "      <th>article_link</th>\n",
              "      <th>headline</th>\n",
              "      <th>is_sarcastic</th>\n",
              "    </tr>\n",
              "  </thead>\n",
              "  <tbody>\n",
              "    <tr>\n",
              "      <th>49795</th>\n",
              "      <td>https://www.huffingtonpost.com/entry/how-to-tr...</td>\n",
              "      <td>how transform your relationship with money pla...</td>\n",
              "      <td>0</td>\n",
              "    </tr>\n",
              "    <tr>\n",
              "      <th>49796</th>\n",
              "      <td>https://www.theonion.com/george-kennedys-honor...</td>\n",
              "      <td>george kennedy honor riding internal breath fr...</td>\n",
              "      <td>1</td>\n",
              "    </tr>\n",
              "    <tr>\n",
              "      <th>49797</th>\n",
              "      <td>https://local.theonion.com/women-s-strike-a-so...</td>\n",
              "      <td>woman strike sobering reality check for subway...</td>\n",
              "      <td>1</td>\n",
              "    </tr>\n",
              "    <tr>\n",
              "      <th>49798</th>\n",
              "      <td>https://www.theonion.com/video-game-boss-think...</td>\n",
              "      <td>video game bos thinking should get big glowing...</td>\n",
              "      <td>1</td>\n",
              "    </tr>\n",
              "    <tr>\n",
              "      <th>49799</th>\n",
              "      <td>https://local.theonion.com/man-worried-any-cra...</td>\n",
              "      <td>man worried any crazy person could get hand co...</td>\n",
              "      <td>1</td>\n",
              "    </tr>\n",
              "  </tbody>\n",
              "</table>\n",
              "</div>"
            ],
            "text/plain": [
              "                                            article_link  ... is_sarcastic\n",
              "49795  https://www.huffingtonpost.com/entry/how-to-tr...  ...            0\n",
              "49796  https://www.theonion.com/george-kennedys-honor...  ...            1\n",
              "49797  https://local.theonion.com/women-s-strike-a-so...  ...            1\n",
              "49798  https://www.theonion.com/video-game-boss-think...  ...            1\n",
              "49799  https://local.theonion.com/man-worried-any-cra...  ...            1\n",
              "\n",
              "[5 rows x 3 columns]"
            ]
          },
          "metadata": {
            "tags": []
          },
          "execution_count": 28
        }
      ]
    },
    {
      "cell_type": "code",
      "metadata": {
        "id": "h7N26TiRko8Q",
        "colab_type": "code",
        "colab": {
          "base_uri": "https://localhost:8080/",
          "height": 34
        },
        "outputId": "784f6ea2-5ebc-4f09-ecf0-f96553ca0d8a"
      },
      "source": [
        "#Random forest\n",
        "from sklearn.ensemble import RandomForestClassifier\n",
        "from sklearn.model_selection import train_test_split\n",
        "from sklearn.metrics import f1_score\n",
        "train_bow = bow[:n]\n",
        "test_bow = bow[n:]\n",
        "y=data['is_sarcastic'][:n]\n",
        "xtrain_bow, xvalid_bow, ytrain, yvalid = train_test_split(train_bow,y,random_state=42, test_size=0.3)\n",
        "clfrf=RandomForestClassifier(n_estimators=100)\n",
        "clfrf = clfrf.fit(xtrain_bow,ytrain)\n",
        "prediction=clf.predict_proba(xvalid_bow)\n",
        "prediction_int = predictiona(xvalid_b.5\n",
        "prediction_int=prediction_ia(xvalid_bnp.int)\n",
        "f1_score(yvalid, predictiona(xvalid_b"
      ],
      "execution_count": 29,
      "outputs": [
        {
          "output_type": "execute_result",
          "data": {
            "text/plain": [
              "0.8707844439524759"
            ]
          },
          "metadata": {
            "tags": []
          },
          "execution_count": 29
        }
      ]
    },
    {
      "cell_type": "code",
      "metadata": {
        "id": "4WyT09ULk2yk",
        "colab_type": "code",
        "colab": {
          "base_uri": "https://localhost:8080/",
          "height": 306
        },
        "outputId": "79be1600-c073-42c8-d17b-fd8187a02b23"
      },
      "source": [
        "test_pred = clfrf.predict_proba(test_bow)\n",
        "test_pred_int = test_pred[:,1] >= 0.5\n",
        "test_pred_int = test_pred_int.astype(np.int)\n",
        "test=data[n:]\n",
        "test['is_sarcastic'] = test_pred_int\n",
        "test.head()"
      ],
      "execution_count": 30,
      "outputs": [
        {
          "output_type": "stream",
          "text": [
            "/usr/local/lib/python3.6/dist-packages/ipykernel_launcher.py:5: SettingWithCopyWarning: \n",
            "A value is trying to be set on a copy of a slice from a DataFrame.\n",
            "Try using .loc[row_indexer,col_indexer] = value instead\n",
            "\n",
            "See the caveats in the documentation: http://pandas.pydata.org/pandas-docs/stable/user_guide/indexing.html#returning-a-view-versus-a-copy\n",
            "  \"\"\"\n"
          ],
          "name": "stderr"
        },
        {
          "output_type": "execute_result",
          "data": {
            "text/html": [
              "<div>\n",
              "<style scoped>\n",
              "    .dataframe tbody tr th:only-of-type {\n",
              "        vertical-align: middle;\n",
              "    }\n",
              "\n",
              "    .dataframe tbody tr th {\n",
              "        vertical-align: top;\n",
              "    }\n",
              "\n",
              "    .dataframe thead th {\n",
              "        text-align: right;\n",
              "    }\n",
              "</style>\n",
              "<table border=\"1\" class=\"dataframe\">\n",
              "  <thead>\n",
              "    <tr style=\"text-align: right;\">\n",
              "      <th></th>\n",
              "      <th>article_link</th>\n",
              "      <th>headline</th>\n",
              "      <th>is_sarcastic</th>\n",
              "    </tr>\n",
              "  </thead>\n",
              "  <tbody>\n",
              "    <tr>\n",
              "      <th>49795</th>\n",
              "      <td>https://www.huffingtonpost.com/entry/how-to-tr...</td>\n",
              "      <td>how transform your relationship with money pla...</td>\n",
              "      <td>0</td>\n",
              "    </tr>\n",
              "    <tr>\n",
              "      <th>49796</th>\n",
              "      <td>https://www.theonion.com/george-kennedys-honor...</td>\n",
              "      <td>george kennedy honor riding internal breath fr...</td>\n",
              "      <td>1</td>\n",
              "    </tr>\n",
              "    <tr>\n",
              "      <th>49797</th>\n",
              "      <td>https://local.theonion.com/women-s-strike-a-so...</td>\n",
              "      <td>woman strike sobering reality check for subway...</td>\n",
              "      <td>1</td>\n",
              "    </tr>\n",
              "    <tr>\n",
              "      <th>49798</th>\n",
              "      <td>https://www.theonion.com/video-game-boss-think...</td>\n",
              "      <td>video game bos thinking should get big glowing...</td>\n",
              "      <td>0</td>\n",
              "    </tr>\n",
              "    <tr>\n",
              "      <th>49799</th>\n",
              "      <td>https://local.theonion.com/man-worried-any-cra...</td>\n",
              "      <td>man worried any crazy person could get hand co...</td>\n",
              "      <td>1</td>\n",
              "    </tr>\n",
              "  </tbody>\n",
              "</table>\n",
              "</div>"
            ],
            "text/plain": [
              "                                            article_link  ... is_sarcastic\n",
              "49795  https://www.huffingtonpost.com/entry/how-to-tr...  ...            0\n",
              "49796  https://www.theonion.com/george-kennedys-honor...  ...            1\n",
              "49797  https://local.theonion.com/women-s-strike-a-so...  ...            1\n",
              "49798  https://www.theonion.com/video-game-boss-think...  ...            0\n",
              "49799  https://local.theonion.com/man-worried-any-cra...  ...            1\n",
              "\n",
              "[5 rows x 3 columns]"
            ]
          },
          "metadata": {
            "tags": []
          },
          "execution_count": 30
        }
      ]
    },
    {
      "cell_type": "code",
      "metadata": {
        "id": "YdmpcffKwHJA",
        "colab_type": "code",
        "colab": {
          "base_uri": "https://localhost:8080/",
          "height": 306
        },
        "outputId": "1d9b79d7-7c24-4db6-c4c9-5e575bfd32bd"
      },
      "source": [
        "from keras.preprocessing.text import Tokenizer\n",
        "from keras.preprocessing import sequence\n",
        "from keras.preprocessing.sequence import pad_sequences\n",
        "import numpy as np\n",
        "max_features=2000\n",
        "max_token = len(max(data['headline']))\n",
        "tokenizer = Tokenizer(num_words=max_features)\n",
        "tokenizer.fit_on_texts(data['headline'])\n",
        "sequences = tokenizer.texts_to_sequences(data['headline'])\n",
        "X = pad_sequences(sequences, maxlen=max_token)\n",
        "from sklearn.model_selection import train_test_split\n",
        "Y = data['is_sarcastic'].values\n",
        "Y = np.vstack(Y)\n",
        "X_train,X_test,Y_train,Y_test = train_test_split(X,Y,test_size=0.3, random_state = 42)\n",
        "from keras.layers import LSTM, Activation, Dense, Dropout, Input, Embedding\n",
        "from keras.models import Sequential\n",
        "from keras.layers import Dense, Embedding, LSTM\n",
        "embed_dim = 64\n",
        "model = Sequential()\n",
        "model.add(Embedding(max_features, embed_dim,input_length =(max_token)))\n",
        "model.add(LSTM(96, dropout=0.2, recurrent_dropout=0.2, activation='relu'))\n",
        "model.add(Dense(1))\n",
        "model.add(Activation('sigmoid'))\n",
        "model.compile(loss = 'binary_crossentropy', optimizer='adam',metrics = ['accuracy'])\n",
        "print(model.summary())"
      ],
      "execution_count": 51,
      "outputs": [
        {
          "output_type": "stream",
          "text": [
            "Model: \"sequential_7\"\n",
            "_________________________________________________________________\n",
            "Layer (type)                 Output Shape              Param #   \n",
            "=================================================================\n",
            "embedding_5 (Embedding)      (None, 57, 64)            128000    \n",
            "_________________________________________________________________\n",
            "lstm_5 (LSTM)                (None, 96)                61824     \n",
            "_________________________________________________________________\n",
            "dense_5 (Dense)              (None, 1)                 97        \n",
            "_________________________________________________________________\n",
            "activation_5 (Activation)    (None, 1)                 0         \n",
            "=================================================================\n",
            "Total params: 189,921\n",
            "Trainable params: 189,921\n",
            "Non-trainable params: 0\n",
            "_________________________________________________________________\n",
            "None\n"
          ],
          "name": "stdout"
        }
      ]
    },
    {
      "cell_type": "code",
      "metadata": {
        "id": "yAG6kjmW4-ww",
        "colab_type": "code",
        "colab": {
          "base_uri": "https://localhost:8080/",
          "height": 34
        },
        "outputId": "e84621cc-25a0-4f13-f9e5-10eda5383aae"
      },
      "source": [
        "train_bow.shape"
      ],
      "execution_count": 45,
      "outputs": [
        {
          "output_type": "execute_result",
          "data": {
            "text/plain": [
              "(49795, 21490)"
            ]
          },
          "metadata": {
            "tags": []
          },
          "execution_count": 45
        }
      ]
    },
    {
      "cell_type": "code",
      "metadata": {
        "id": "4a1iCa7m3XGd",
        "colab_type": "code",
        "colab": {
          "base_uri": "https://localhost:8080/",
          "height": 666
        },
        "outputId": "96b2de2a-a6b9-41de-9ad9-d36b1eb63464"
      },
      "source": [
        "epoch = 10\n",
        "batch_size = 128\n",
        "model.fit(X_train, Y_train, epochs = epoch, batch_size=batch_size, verbose = 2)"
      ],
      "execution_count": 53,
      "outputs": [
        {
          "output_type": "stream",
          "text": [
            "WARNING:tensorflow:From /usr/local/lib/python3.6/dist-packages/keras/backend/tensorflow_backend.py:1033: The name tf.assign_add is deprecated. Please use tf.compat.v1.assign_add instead.\n",
            "\n",
            "WARNING:tensorflow:From /usr/local/lib/python3.6/dist-packages/keras/backend/tensorflow_backend.py:1020: The name tf.assign is deprecated. Please use tf.compat.v1.assign instead.\n",
            "\n",
            "WARNING:tensorflow:From /usr/local/lib/python3.6/dist-packages/keras/backend/tensorflow_backend.py:3005: The name tf.Session is deprecated. Please use tf.compat.v1.Session instead.\n",
            "\n",
            "Epoch 1/10\n",
            "WARNING:tensorflow:From /usr/local/lib/python3.6/dist-packages/keras/backend/tensorflow_backend.py:190: The name tf.get_default_session is deprecated. Please use tf.compat.v1.get_default_session instead.\n",
            "\n",
            "WARNING:tensorflow:From /usr/local/lib/python3.6/dist-packages/keras/backend/tensorflow_backend.py:197: The name tf.ConfigProto is deprecated. Please use tf.compat.v1.ConfigProto instead.\n",
            "\n",
            "WARNING:tensorflow:From /usr/local/lib/python3.6/dist-packages/keras/backend/tensorflow_backend.py:207: The name tf.global_variables is deprecated. Please use tf.compat.v1.global_variables instead.\n",
            "\n",
            "WARNING:tensorflow:From /usr/local/lib/python3.6/dist-packages/keras/backend/tensorflow_backend.py:216: The name tf.is_variable_initialized is deprecated. Please use tf.compat.v1.is_variable_initialized instead.\n",
            "\n",
            "WARNING:tensorflow:From /usr/local/lib/python3.6/dist-packages/keras/backend/tensorflow_backend.py:223: The name tf.variables_initializer is deprecated. Please use tf.compat.v1.variables_initializer instead.\n",
            "\n",
            " - 43s - loss: 0.4797 - acc: 0.7578\n",
            "Epoch 2/10\n",
            " - 41s - loss: 0.3522 - acc: 0.8428\n",
            "Epoch 3/10\n",
            " - 41s - loss: 0.3279 - acc: 0.8576\n",
            "Epoch 4/10\n",
            " - 41s - loss: 0.3052 - acc: 0.8677\n",
            "Epoch 5/10\n",
            " - 41s - loss: 0.2872 - acc: 0.8752\n",
            "Epoch 6/10\n",
            " - 42s - loss: 0.2695 - acc: 0.8828\n",
            "Epoch 7/10\n",
            " - 42s - loss: 0.2535 - acc: 0.8895\n",
            "Epoch 8/10\n",
            " - 42s - loss: 0.2393 - acc: 0.8955\n",
            "Epoch 9/10\n",
            " - 42s - loss: 0.2242 - acc: 0.9012\n",
            "Epoch 10/10\n",
            " - 42s - loss: 0.2128 - acc: 0.9061\n"
          ],
          "name": "stdout"
        },
        {
          "output_type": "execute_result",
          "data": {
            "text/plain": [
              "<keras.callbacks.History at 0x7f64c1bc9550>"
            ]
          },
          "metadata": {
            "tags": []
          },
          "execution_count": 53
        }
      ]
    },
    {
      "cell_type": "code",
      "metadata": {
        "id": "nuued-kr_BP8",
        "colab_type": "code",
        "colab": {
          "base_uri": "https://localhost:8080/",
          "height": 34
        },
        "outputId": "9473fcec-2991-480b-8804-0252772e6409"
      },
      "source": [
        "result = model.predict(X_test)\n",
        "crr=0\n",
        "for i in range(len(X_test)):\n",
        "  if(np.around(result[i])==np.around(Y_test[i])):\n",
        "    crr=crr+1\n",
        "acc=crr/(len(X_test))\n",
        "print(acc)"
      ],
      "execution_count": 59,
      "outputs": [
        {
          "output_type": "stream",
          "text": [
            "0.861678414362311\n"
          ],
          "name": "stdout"
        }
      ]
    }
  ]
}